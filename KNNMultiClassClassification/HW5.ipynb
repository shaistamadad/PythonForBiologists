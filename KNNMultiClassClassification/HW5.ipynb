{
 "cells": [
  {
   "cell_type": "code",
   "execution_count": 3,
   "metadata": {},
   "outputs": [
    {
     "name": "stdout",
     "output_type": "stream",
     "text": [
      "Wrong accuracy: 0.72\n",
      "Independ. set accuracy: 0.63\n",
      "CV accuracy: 0.66\n"
     ]
    }
   ],
   "source": [
    "# The data consist of microarrays from 89 different individuals with acute lymphoblastic leukemia (ALL)\n",
    "# There are three subgroups of the data including B-cell tumours with BRC/ABL mutation \n",
    "# and those ALL samples with no cytogenic abnormalities (NEG), \n",
    "# and ALL1/AF4 show a translocation between chromosomes 4 and 11 etc.\n",
    "import numpy as np\n",
    "import pandas as pd\n",
    "from sklearn import neighbors, datasets\n",
    "from sklearn.model_selection import train_test_split\n",
    "from sklearn.model_selection import cross_val_score\n",
    "\n",
    "def cross_val_score_solution(clf, gene_exp, tissue_type, cv=5):\n",
    "    # TODO: replace this implementation using your implementation using only \n",
    "    # builtin python or numpy data-structures and functions, \n",
    "    # and sklearn score function.\n",
    "    # Function should return a single floating point accuracy \n",
    "    scores = cross_val_score(clf, gene_exp, tissue_type, cv=cv)\n",
    "    return scores.mean()\n",
    "\n",
    "n_neighbors = 15\n",
    "clf = neighbors.KNeighborsClassifier(n_neighbors, weights='uniform')\n",
    "\n",
    "gene_exp = pd.read_csv(\"gene_expr.csv\", header=None).values\n",
    "tissue_type = pd.read_csv(\"gene_labels.csv\", header=None).values\n",
    "gene_exp = np.transpose(gene_exp)\n",
    "tissue_type = np.ravel(tissue_type)\n",
    "\n",
    "# incorrect- testing on training set. Wrong!!!!!\n",
    "clf.fit(gene_exp, tissue_type)\n",
    "print(\"Wrong accuracy: %0.2f\" % clf.score(gene_exp, tissue_type))\n",
    "\n",
    "# we use an independent test set. Correct!!!!!!!!!\n",
    "X_train, X_test, y_train, y_test = train_test_split(gene_exp, tissue_type, test_size=0.3, random_state=0)\n",
    "clf.fit(X_train, y_train)\n",
    "print(\"Independ. set accuracy: %0.2f\" % clf.score(X_test, y_test))\n",
    "      \n",
    "# cv- also correct!!!!!!!\n",
    "# TODO: your cross-validation function should return the mean accuracy\n",
    "mean_accuracy = cross_val_score_solution(clf, gene_exp, tissue_type, cv=5)\n",
    "print(\"CV accuracy: %0.2f\" % (mean_accuracy))\n",
    "\n"
   ]
  },
  {
   "cell_type": "code",
   "execution_count": 4,
   "metadata": {},
   "outputs": [
    {
     "name": "stdout",
     "output_type": "stream",
     "text": [
      "[[1 2]\n",
      " [3 4]]\n",
      "\n",
      "[[5 6]]\n",
      "\n",
      "[[1 2]\n",
      " [3 4]\n",
      " [5 6]]\n",
      "\n",
      "[[1 2]]\n",
      "[[3 4]]\n",
      "[[5 6]]\n",
      "\n",
      "[0. 0. 0. 0. 0.]\n"
     ]
    }
   ],
   "source": [
    "import numpy as np\n",
    "\n",
    "# Useful numpy functions\n",
    "# (see https://docs.scipy.org/doc/numpy/user/quickstart.html)\n",
    "\n",
    "# create two numpy arrays\n",
    "a = np.array([[1, 2], [3, 4]])\n",
    "print(a)\n",
    "print()\n",
    "b = np.array([[5, 6]])\n",
    "print(b)\n",
    "print()\n",
    "\n",
    "# now join a list of arrays\n",
    "c = np.concatenate([a, b], axis=0)\n",
    "print(c)\n",
    "print()\n",
    "\n",
    "# now split an array into a list\n",
    "d = np.array_split(c, 3, axis=0)\n",
    "print(d[0])\n",
    "print(d[1])\n",
    "print(d[2])\n",
    "\n",
    "print()\n",
    "\n",
    "# create an empty vector of length 5\n",
    "z = np.zeros(5)\n",
    "print(z)"
   ]
  },
  {
   "cell_type": "code",
   "execution_count": null,
   "metadata": {},
   "outputs": [],
   "source": []
  }
 ],
 "metadata": {
  "kernelspec": {
   "display_name": "Python 3",
   "language": "python",
   "name": "python3"
  },
  "language_info": {
   "codemirror_mode": {
    "name": "ipython",
    "version": 3
   },
   "file_extension": ".py",
   "mimetype": "text/x-python",
   "name": "python",
   "nbconvert_exporter": "python",
   "pygments_lexer": "ipython3",
   "version": "3.7.3"
  }
 },
 "nbformat": 4,
 "nbformat_minor": 4
}
