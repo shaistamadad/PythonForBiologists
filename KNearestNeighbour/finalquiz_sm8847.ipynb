{
 "cells": [
  {
   "cell_type": "code",
   "execution_count": 1,
   "metadata": {},
   "outputs": [
    {
     "name": "stdout",
     "output_type": "stream",
     "text": [
      "C:\\Users\\admin\\Downloads\n"
     ]
    }
   ],
   "source": [
    "cd Downloads"
   ]
  },
  {
   "cell_type": "code",
   "execution_count": 419,
   "metadata": {},
   "outputs": [],
   "source": [
    "def distance_euc(v1,v2):\n",
    "    \"\"\"This function takes as an inputs 2 two-dimension vector: and x and y points of co-ordinates \n",
    "    of the graph. This function then calculates the euclidean distance between the two points\"\"\"\n",
    "    \n",
    "    assert len(v1)==len(v2), \"length of the two vectors should be equal: 2\"\n",
    "\n",
    "    distances=[]  # start with an empty list \n",
    "    x1=v1[0]  # the x co-ordinate of a given row of test data\n",
    "    x2=v2[0] #the x coordinate of a given row of training data  \n",
    "    y1= v1[1]  # y co-ordinate of a given row of test data\n",
    "    y2= v2[1]  #y coordinate of a given row of training data \n",
    "    distances.append(((x1-x2)**2) + ((y2-y1)**2))  # formula to calculate the Euclidean distance \n",
    "    return distances"
   ]
  },
  {
   "cell_type": "code",
   "execution_count": 420,
   "metadata": {},
   "outputs": [],
   "source": [
    "import pandas as pd\n",
    "import numpy as np"
   ]
  },
  {
   "cell_type": "code",
   "execution_count": 421,
   "metadata": {},
   "outputs": [],
   "source": [
    "with open('iris_train.tsv', \"r\") as f: \n",
    "    for line in f: \n",
    "        #print(line)\n",
    "        s_list11=[]\n",
    "        s_list2=[]\n",
    "        s= f.readlines()\n",
    "        for line in range(len(s)): \n",
    "            #print(line)\n",
    "            s_list11.append(s[line].strip().split('\\t')[:2]) # This command returns a list of lists. each list is a 2 length string containing the petal width and length of the training data \n",
    "            s_list2.append(s[line].strip().split('\\t')[-1])  # s_list2 is a list of strings containing the y label data\n",
    "        #print(s_list2)\n",
    "        #print(s_list11)"
   ]
  },
  {
   "cell_type": "code",
   "execution_count": 422,
   "metadata": {},
   "outputs": [
    {
     "name": "stdout",
     "output_type": "stream",
     "text": [
      "[[1.6, 0.6], [1.9, 0.4], [4.2, 1.3], [4.3, 1.3], [3.1, 1.1]]\n"
     ]
    }
   ],
   "source": [
    "with open('iris_test.tsv', \"r\") as f1: \n",
    "    for line in f1: \n",
    "        #print(line)\n",
    "        s_list1=[]\n",
    "        s1= f1.readlines()\n",
    "        for line in range(len(s1)): \n",
    "            #print(line)\n",
    "            s_list1.append(s1[line].strip().split('\\t'))  #s_list1 is a list of lists. each list is a two length string containing petal width and length information of the test data \n",
    "x_test=s_list1\n",
    "X_Test=[]\n",
    "for line in x_test:\n",
    "    X_Test.append([float(i) for i in line])  # Need to do this to convert the numbers from strings to floats for subsequent analysis \n",
    "print(X_Test)"
   ]
  },
  {
   "cell_type": "code",
   "execution_count": 423,
   "metadata": {},
   "outputs": [
    {
     "name": "stdout",
     "output_type": "stream",
     "text": [
      "[[1.4, 0.2], [1.3, 0.2], [1.5, 0.2], [1.4, 0.2], [1.7, 0.4], [1.4, 0.3], [1.5, 0.2], [4.7, 1.4], [4.5, 1.5], [4.9, 1.5], [4.0, 1.3], [4.6, 1.5], [4.5, 1.3], [4.7, 1.6], [3.3, 1.0]]\n"
     ]
    }
   ],
   "source": [
    "x_train=s_list11\n",
    "X_Train=[]\n",
    "for line in x_train:\n",
    "    X_Train.append([float(i) for i in line])  # converts all the X_train data from strings to floats for subsequent analysis \n",
    "print(X_Train)"
   ]
  },
  {
   "cell_type": "code",
   "execution_count": 424,
   "metadata": {},
   "outputs": [
    {
     "name": "stdout",
     "output_type": "stream",
     "text": [
      "['setosa', 'setosa', 'setosa', 'setosa', 'setosa', 'setosa', 'setosa', 'versicolor', 'versicolor', 'versicolor', 'versicolor', 'versicolor', 'versicolor', 'versicolor', 'versicolor']\n"
     ]
    }
   ],
   "source": [
    "y_train= s_list2\n",
    "print(y_train)"
   ]
  },
  {
   "cell_type": "code",
   "execution_count": null,
   "metadata": {},
   "outputs": [],
   "source": [
    " Write a function knn_train(m, x_train, y_train) where m is some appropriate \n",
    "# data structure for the knn model, and where x is the training data explanatory \n",
    "# variables and y is the training data labels. \n",
    "# m is passed by reference and should be modified to store x_train and y_train in m.\n"
   ]
  },
  {
   "cell_type": "code",
   "execution_count": 425,
   "metadata": {},
   "outputs": [],
   "source": [
    "m=[[],[]]  # an empty list of two empty lists which is later modified to contain the x_train and y_train data \n",
    "def knn_train(m, X_Train, y_train):\n",
    "    \"\"\"\" This function takes in an list of two empty lists called m, and two lists. X_Train is a list of lists containing the petal length and petal width\n",
    "    y_train is a list of strings which has the corresponding labels for the X_Train lists. This function modifies m and returns the \n",
    "    empty list as two lists of lists: first list is the X_Train values, second list is the Y_labels for it\"\"\"\n",
    "    m[0].append(X_Train)  \n",
    "    m[1].append(y_train)\n",
    "    return m"
   ]
  },
  {
   "cell_type": "code",
   "execution_count": 426,
   "metadata": {},
   "outputs": [
    {
     "data": {
      "text/plain": [
       "[[[[1.4, 0.2],\n",
       "   [1.3, 0.2],\n",
       "   [1.5, 0.2],\n",
       "   [1.4, 0.2],\n",
       "   [1.7, 0.4],\n",
       "   [1.4, 0.3],\n",
       "   [1.5, 0.2],\n",
       "   [4.7, 1.4],\n",
       "   [4.5, 1.5],\n",
       "   [4.9, 1.5],\n",
       "   [4.0, 1.3],\n",
       "   [4.6, 1.5],\n",
       "   [4.5, 1.3],\n",
       "   [4.7, 1.6],\n",
       "   [3.3, 1.0]]],\n",
       " [['setosa',\n",
       "   'setosa',\n",
       "   'setosa',\n",
       "   'setosa',\n",
       "   'setosa',\n",
       "   'setosa',\n",
       "   'setosa',\n",
       "   'versicolor',\n",
       "   'versicolor',\n",
       "   'versicolor',\n",
       "   'versicolor',\n",
       "   'versicolor',\n",
       "   'versicolor',\n",
       "   'versicolor',\n",
       "   'versicolor']]]"
      ]
     },
     "execution_count": 426,
     "metadata": {},
     "output_type": "execute_result"
    }
   ],
   "source": [
    "knn_train(m,X_Train,y_train)"
   ]
  },
  {
   "cell_type": "code",
   "execution_count": 427,
   "metadata": {},
   "outputs": [
    {
     "data": {
      "text/plain": [
       "[[1.6, 0.6], [1.9, 0.4], [4.2, 1.3], [4.3, 1.3], [3.1, 1.1]]"
      ]
     },
     "execution_count": 427,
     "metadata": {},
     "output_type": "execute_result"
    }
   ],
   "source": [
    "X_Test"
   ]
  },
  {
   "cell_type": "code",
   "execution_count": 428,
   "metadata": {},
   "outputs": [
    {
     "data": {
      "text/plain": [
       "5"
      ]
     },
     "execution_count": 428,
     "metadata": {},
     "output_type": "execute_result"
    }
   ],
   "source": [
    "len(X_Test)"
   ]
  },
  {
   "cell_type": "code",
   "execution_count": 429,
   "metadata": {},
   "outputs": [
    {
     "data": {
      "text/plain": [
       "[[1.4, 0.2],\n",
       " [1.3, 0.2],\n",
       " [1.5, 0.2],\n",
       " [1.4, 0.2],\n",
       " [1.7, 0.4],\n",
       " [1.4, 0.3],\n",
       " [1.5, 0.2],\n",
       " [4.7, 1.4],\n",
       " [4.5, 1.5],\n",
       " [4.9, 1.5],\n",
       " [4.0, 1.3],\n",
       " [4.6, 1.5],\n",
       " [4.5, 1.3],\n",
       " [4.7, 1.6],\n",
       " [3.3, 1.0]]"
      ]
     },
     "execution_count": 429,
     "metadata": {},
     "output_type": "execute_result"
    }
   ],
   "source": [
    "m[0][0]"
   ]
  },
  {
   "cell_type": "code",
   "execution_count": null,
   "metadata": {},
   "outputs": [],
   "source": [
    " (3) Write a function knn_predict(m, x_test) where x_test is a sequence of \n",
    "# explanatory variables, which returns a sequence of predictions, \n",
    "# one for each row of data."
   ]
  },
  {
   "cell_type": "code",
   "execution_count": 387,
   "metadata": {},
   "outputs": [
    {
     "data": {
      "text/plain": [
       "'versicolor'"
      ]
     },
     "execution_count": 387,
     "metadata": {},
     "output_type": "execute_result"
    }
   ],
   "source": [
    "m[1][0][14]"
   ]
  },
  {
   "cell_type": "code",
   "execution_count": 317,
   "metadata": {},
   "outputs": [
    {
     "data": {
      "text/plain": [
       "[[1.6, 0.6], [1.9, 0.4], [4.2, 1.3], [4.3, 1.3], [3.1, 1.1]]"
      ]
     },
     "execution_count": 317,
     "metadata": {},
     "output_type": "execute_result"
    }
   ],
   "source": [
    "X_Test"
   ]
  },
  {
   "cell_type": "code",
   "execution_count": 308,
   "metadata": {},
   "outputs": [
    {
     "data": {
      "text/plain": [
       "15"
      ]
     },
     "execution_count": 308,
     "metadata": {},
     "output_type": "execute_result"
    }
   ],
   "source": [
    "len(m[0][0])"
   ]
  },
  {
   "cell_type": "code",
   "execution_count": 443,
   "metadata": {},
   "outputs": [],
   "source": [
    "def knn_predict(m, X_Test):\n",
    "    \"\"\"This function takes in as parameters the taining dataset m and the test dataset X_Test. The fist list in m is the list \n",
    "    of the vectors (petal length and petal width). The X_Test contains the vectors for the flowers whose species we need to determine.\n",
    "    I will use the distance_euc function from above to calculate the distance between each vector of the X_Test, and the vectors\n",
    "    of the training dataset. After this, for each of the 15 distances calculated for the 5 points of the data set, I will \n",
    "    find the minimum value. I will then choose the Y label from the second list of my dataset for the corresponsing X_vector \n",
    "    values. This will be the prediction of the particular row of the X_Test vector\"\"\"\n",
    "    import numpy as np\n",
    "    labels=[]   #  this is the list which will contain all the predictions at the end \n",
    "    for i in range(len(X_Test)): # which is 5 \n",
    "        distance=[]\n",
    "        for b in range(len(m[0][0])): # which is 15 \n",
    "            distance.append(distance_euc(X_Test[i],m[0][0][b]))  # 15 distances for each of the five points \n",
    "            smallest_value= np.min(distance)   # for each of the 15 distances this gives the smallest euclidean distance value \n",
    "        index=np.where(distance==smallest_value)[0][0]  # find the index of the y label for the corresponding x_train vallues which gave the smallest euclidean distance \n",
    "        labels.append(m[1][0][index])   # append the y labels for the smallest euclidean distance vector from the training data\n",
    "            \n",
    "    return labels"
   ]
  },
  {
   "cell_type": "code",
   "execution_count": 444,
   "metadata": {},
   "outputs": [
    {
     "data": {
      "text/plain": [
       "['setosa', 'setosa', 'versicolor', 'versicolor', 'versicolor']"
      ]
     },
     "execution_count": 444,
     "metadata": {},
     "output_type": "execute_result"
    }
   ],
   "source": [
    "knn_predict(m, X_Test) #Test this on the data to check if the outputs are returned"
   ]
  },
  {
   "cell_type": "code",
   "execution_count": 432,
   "metadata": {},
   "outputs": [
    {
     "data": {
      "text/plain": [
       "[[1.6, 0.6], [1.9, 0.4], [4.2, 1.3], [4.3, 1.3], [3.1, 1.1]]"
      ]
     },
     "execution_count": 432,
     "metadata": {},
     "output_type": "execute_result"
    }
   ],
   "source": [
    "X_Test"
   ]
  },
  {
   "cell_type": "code",
   "execution_count": 346,
   "metadata": {},
   "outputs": [],
   "source": [
    "# (4) Define the data structure for your model and use these functions to train \n",
    "# the model on the data in \"iris_train.tsv\", then predict the labels for the \n",
    "# test data in \"iris_test.tsv\" and print them."
   ]
  },
  {
   "cell_type": "code",
   "execution_count": 445,
   "metadata": {},
   "outputs": [
    {
     "data": {
      "text/plain": [
       "[[[[1.4, 0.2],\n",
       "   [1.3, 0.2],\n",
       "   [1.5, 0.2],\n",
       "   [1.4, 0.2],\n",
       "   [1.7, 0.4],\n",
       "   [1.4, 0.3],\n",
       "   [1.5, 0.2],\n",
       "   [4.7, 1.4],\n",
       "   [4.5, 1.5],\n",
       "   [4.9, 1.5],\n",
       "   [4.0, 1.3],\n",
       "   [4.6, 1.5],\n",
       "   [4.5, 1.3],\n",
       "   [4.7, 1.6],\n",
       "   [3.3, 1.0]]],\n",
       " [['setosa',\n",
       "   'setosa',\n",
       "   'setosa',\n",
       "   'setosa',\n",
       "   'setosa',\n",
       "   'setosa',\n",
       "   'setosa',\n",
       "   'versicolor',\n",
       "   'versicolor',\n",
       "   'versicolor',\n",
       "   'versicolor',\n",
       "   'versicolor',\n",
       "   'versicolor',\n",
       "   'versicolor',\n",
       "   'versicolor']]]"
      ]
     },
     "execution_count": 445,
     "metadata": {},
     "output_type": "execute_result"
    }
   ],
   "source": [
    "#Defining my data structures: \n",
    "# m is a list of two lists. This is the training dataset. The first list is a list of vectors. The vectors represent the x and \n",
    "#y coordinates of the trainind data: they represent the length and width of the columns. The second list of m is the y labels \n",
    "# of the trainid data \n",
    "m"
   ]
  },
  {
   "cell_type": "code",
   "execution_count": 435,
   "metadata": {},
   "outputs": [
    {
     "data": {
      "text/plain": [
       "[[1.6, 0.6], [1.9, 0.4], [4.2, 1.3], [4.3, 1.3], [3.1, 1.1]]"
      ]
     },
     "execution_count": 435,
     "metadata": {},
     "output_type": "execute_result"
    }
   ],
   "source": [
    "#Defining my data structures: \n",
    "#X_Test represents my test set. Each list is a list of two float points, representing the petal length and petal width \n",
    "X_Test "
   ]
  },
  {
   "cell_type": "code",
   "execution_count": 439,
   "metadata": {},
   "outputs": [
    {
     "data": {
      "text/plain": [
       "[[1.4, 0.2],\n",
       " [1.3, 0.2],\n",
       " [1.5, 0.2],\n",
       " [1.4, 0.2],\n",
       " [1.7, 0.4],\n",
       " [1.4, 0.3],\n",
       " [1.5, 0.2],\n",
       " [4.7, 1.4],\n",
       " [4.5, 1.5],\n",
       " [4.9, 1.5],\n",
       " [4.0, 1.3],\n",
       " [4.6, 1.5],\n",
       " [4.5, 1.3],\n",
       " [4.7, 1.6],\n",
       " [3.3, 1.0]]"
      ]
     },
     "execution_count": 439,
     "metadata": {},
     "output_type": "execute_result"
    }
   ],
   "source": [
    "#Defining my data structures: \n",
    "#X_Train is a list of lists. Each list is a vector: length and width of petals of the training data \n",
    "X_Train"
   ]
  },
  {
   "cell_type": "code",
   "execution_count": 442,
   "metadata": {},
   "outputs": [
    {
     "data": {
      "text/plain": [
       "['setosa',\n",
       " 'setosa',\n",
       " 'setosa',\n",
       " 'setosa',\n",
       " 'setosa',\n",
       " 'setosa',\n",
       " 'setosa',\n",
       " 'versicolor',\n",
       " 'versicolor',\n",
       " 'versicolor',\n",
       " 'versicolor',\n",
       " 'versicolor',\n",
       " 'versicolor',\n",
       " 'versicolor',\n",
       " 'versicolor']"
      ]
     },
     "execution_count": 442,
     "metadata": {},
     "output_type": "execute_result"
    }
   ],
   "source": [
    "#Defining my data structures\n",
    "#y_train is a list of the corresponding y labels.\n",
    "y_train \n"
   ]
  },
  {
   "cell_type": "code",
   "execution_count": null,
   "metadata": {},
   "outputs": [],
   "source": []
  }
 ],
 "metadata": {
  "kernelspec": {
   "display_name": "Python 3",
   "language": "python",
   "name": "python3"
  },
  "language_info": {
   "codemirror_mode": {
    "name": "ipython",
    "version": 3
   },
   "file_extension": ".py",
   "mimetype": "text/x-python",
   "name": "python",
   "nbconvert_exporter": "python",
   "pygments_lexer": "ipython3",
   "version": "3.7.3"
  }
 },
 "nbformat": 4,
 "nbformat_minor": 4
}
